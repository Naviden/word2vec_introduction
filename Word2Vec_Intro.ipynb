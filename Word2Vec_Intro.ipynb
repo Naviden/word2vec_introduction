{
 "cells": [
  {
   "cell_type": "markdown",
   "metadata": {},
   "source": [
    "# Word-Embedding : An introduction to Word2Vec and Doc2Vec"
   ]
  },
  {
   "cell_type": "markdown",
   "metadata": {},
   "source": [
    "**Welcome!**\n",
    "\n",
    "In this notebook we first see an introduction about the concept of Distributional Semantic Models (DSM) and Word-Embedding and as we go on we'll learn about the Word2Vec and Doc2Vec algorithms and see how can we implement them in an ML task.\n",
    "\n",
    "Please note that the main purpose of this notebook is to make familiar a beginner ML user with the mentioned concepts instead of focusing on the most efficient - or pythonic - way to write the code. There are several ways the codes you'll see here can be written in a better/more intelligent way but as a result, they may seem more complex to a non-expert Python coder. That's why I intentionally decided to not use Classes, decorators and tools like those."
   ]
  },
  {
   "cell_type": "markdown",
   "metadata": {},
   "source": [
    "## What is word-embedding?"
   ]
  },
  {
   "cell_type": "markdown",
   "metadata": {},
   "source": [
    "Sometime between 50,000 years and 2 million years ago, humans started to talk and what we know today as \"languages\" is the result of this long process. \n",
    "\n",
    "The reason for it is rather simple: to be able to communicate about the world around them which directly impacts their lives. So, they create \"representations\" (which are not limited to words) to transfer an idea/concept/meaning to another human. While at the beginning these words/sounds/... were just independent symbols, by evolution of human language, words were also evolved not only as symbols but also as a way to link other concepts together. This process has happened during thousands of years, and during this period, human brain was unable to create a model of the reality, to link words(symbols) not just assign them to a single concept/idea but to understand their dynamics with the other symbols. So when I ask you ``give me a pair of scissors to cut this rope``, if you can't find scissors and instead see a knife you will probably bring it to me because in the model your brain has from the reality, scissors are used to cut, just as a knife. While at the first glance it may seem trivial, actually trying to replicate this phenomenon outside the human brain won't be so simple! before going in deep to see what options are out, let’s review how human brain deals with words:\n",
    "\n",
    "<img src=\"Images/human_process.png\" height=\"300\" width=\"700\">"
   ]
  },
  {
   "cell_type": "markdown",
   "metadata": {},
   "source": [
    "To better grasp the concept of *creating representations*, let's take a look at a simple example:\n",
    "\n",
    "Imagine we have a bunch of apples and for some reasons we want to find out the apples which are similar and dissimilar to each other:"
   ]
  },
  {
   "cell_type": "markdown",
   "metadata": {},
   "source": [
    "<img src=\"Images/mele.png\" height=\"300\" width=\"700\">"
   ]
  },
  {
   "cell_type": "markdown",
   "metadata": {},
   "source": [
    "How, in your opinion we can represent an apple?\n",
    "\n",
    "Let's say we decide to *represent* each one using these characteristic:\n",
    "* Color\n",
    "* Height\n",
    "* Perimeter\n",
    "\n",
    "<img src=\"Images/apple_table.png\" height=\"300\" width=\"400\">"
   ]
  },
  {
   "cell_type": "markdown",
   "metadata": {},
   "source": [
    "So now it's possible to show them in space, this means we just created a numerical representation for our apples!"
   ]
  },
  {
   "cell_type": "markdown",
   "metadata": {},
   "source": [
    "<img src=\"Images/coor.jpeg\" width=\"900\">"
   ]
  },
  {
   "cell_type": "markdown",
   "metadata": {},
   "source": [
    "What we did above is to get some _real-world_ objects and make a representation for them. Doing so we area able to find the _similar_ apples:"
   ]
  },
  {
   "cell_type": "markdown",
   "metadata": {},
   "source": [
    "<img src=\"Images/apple_cluster.png\" width=\"600\">"
   ]
  },
  {
   "cell_type": "markdown",
   "metadata": {},
   "source": [
    " Now, imagine that we have to do the same thing but this time not for the entities with physical feature but for words...not so easy, right? ;)\n",
    "We're lucky that we shouldn't start from the first step, mapping concepts/ideas to symbols. Human beings have done it for us during thousands of years!\n",
    "Unfortunately having words is not enough for creating our model. To do so we need a numerical representation of textual data. Why we need such a representation you ask? well, to find out, just try to give the following paragraph to a classification algorithm, as it it, a text!\n",
    "\n",
    "``Lorem ipsum dolor sit amet, consectetur adipisicing elit, sed do eiusmod tempor incididunt ut labore et dolore magna aliqua. Ut enim ad minim veniam, quis nostrud exercitation ullamco laboris nisi ut aliquip ex ea commodo consequat. Duis aute irure dolor in reprehenderit in voluptate velit esse cillum dolore eu fugiat nulla pariatur. Excepteur sint occaecat cupidatat non proident, sunt in culpa qui officia deserunt mollit anim id est laborum.``\n"
   ]
  },
  {
   "cell_type": "markdown",
   "metadata": {},
   "source": [
    "__Discussion__\n",
    "\n",
    "How can we make a numerical representation for a text? Consider the following methods for creating numeric representation and try to discuss their disadvantages:\n",
    "\n",
    "- Word frequency\n",
    "- Word length\n",
    "- One-Hot coding\n",
    "- Word Similarity\n",
    "- ?"
   ]
  },
  {
   "cell_type": "markdown",
   "metadata": {},
   "source": [
    "It may be hard to believe but the first scientific regarding this question go back to 50s! Traditionally, researchers were using _count or frequency methods_ aiming to to capture the context pattern of words. Later these methods led to another group of methods : _prediction Based methods_ which simply put, is applying dimensional reduction algorithms  to a text corpus.\n",
    "in 2013, _Mikolov_ and hist team in _Google_ proposed a new way to generate the distributional Semantic model : __word2vec__ algorithm."
   ]
  },
  {
   "cell_type": "markdown",
   "metadata": {},
   "source": [
    "Is Word2Vec is the only way to perform a word-embedding? of course not! as we said above there are decades researchers are working on this filed and you can find dozens of other methods in the literature. These methods can be grouped into two category:\n",
    "\n",
    "* __Frequency Based Methods__\n",
    "    * Count Vectors\n",
    "    * TF-IDF\n",
    "    * Co-Occurance Vectors\n",
    "    * ...\n",
    "* __Predication Based Methods__\n",
    "    * Word2Vec\n",
    "    * GloVe\n",
    "    * Tyrion\n",
    "    * ...\n",
    "\n",
    "_Prediction Bases Methods are both more sophisticated and computationally expensive respect to Frequency Based Methods._"
   ]
  },
  {
   "cell_type": "markdown",
   "metadata": {},
   "source": [
    "## What is the expected outcome of a Word2Vec model?"
   ]
  },
  {
   "cell_type": "markdown",
   "metadata": {},
   "source": [
    "In a nutshell, a Vector!\n",
    "\n",
    "To be more precise, a dense numerical vector with a pre-defined length.\n",
    "\n",
    "<img src=\"Images/word2vec.png\" height=\"300\" width=\"700\">"
   ]
  },
  {
   "cell_type": "markdown",
   "metadata": {},
   "source": [
    "Simply put, a Word2Vec is just a simple neural network which performs a binary classification and uses the learned classifier weights as embeddings of words. All the classifier does is to return the probability of ___c___ being a context word for a target word ___t___. that's it!\n",
    "\n",
    "A Word2Vec model, internally uses one of the following algorithms to create the embeddings:\n",
    "\n",
    "* Continuous Bag Of Words (CBOW)\n",
    "* Skip-Gram (SG)"
   ]
  },
  {
   "cell_type": "markdown",
   "metadata": {},
   "source": [
    "## General mechanism of Word2Vec"
   ]
  },
  {
   "cell_type": "markdown",
   "metadata": {},
   "source": [
    "Despite its immerse power, behind the scenes Word2Vec algorithm has a simple concept. Let's use an example to understand better the internal mechanism.\n",
    "Before jumping to the example, we should emphasize one more time that the main assumption behind the following parts is the theory of meaning or as J.R.Firth puts it \"You shall know a word by the company it keeps\".\n",
    "How can we achieve such a thing? to understand the complex relationship between words and their context.\\\\\n",
    "Now let's go back to our simple example: Consider the left image in the following figure. Here we have a short text which contains words $A$ and $B$ (gray color). Now suppose that we find all the words that come immediately before and after our target words($A$ and $B$). We can see that these neighbours are almost the same (they are different combinations of $X$ and $Y$ ). In this case based on the meaning theory which we mentioned earlier we can conclude that $A$ and $B$ have a similar concept given that their contexts ($X$ and $Y$) are similar. On the contrary, analyzing context words of $A$ and $B$ in the image on the right, we notice that the contexts of $A$ and $B$ are not similar( at least not as they were in the previous case) so we can say that in this case $A$ and $B$ don't have a similar concepts/meaning."
   ]
  },
  {
   "cell_type": "markdown",
   "metadata": {},
   "source": [
    "<img src=\"Images/diff.png\" height=\"700\" width=\"700\">"
   ]
  },
  {
   "cell_type": "markdown",
   "metadata": {},
   "source": [
    "We have just seen an extremely simplified version of Word2Vec algorithm. Let's see what are the main differences between our example and the actual algorithm:\n",
    "\n",
    "- **Length of text**: instead of dealing with a short document as in the example, Word2Vec usually performs on the large corpus of data.\n",
    "- **context**: unlike what we saw in the example, the actual example doesn't consider two words immediately before and after the target word. Instead it considers a fixed window with a predefined length of preceding and following words respect to the target word.\n",
    "- **Scope**: While in our simple example our goal was to check the similarity between two specific words, implementing Word2Vec algorithm, we create a vector representation for all tokens present in the corpus. These vectors later give us the possibility to perform further analysis like similarity and transformation as we will see later in detail.\n",
    "- **Algorithm**: In the example we compared context of target words and based on the combination of context words we have decided that $A$ and $B$ are similar in the image on the left and not similar in the image one the right. Word2Vec on the other hand uses a different approach which is predicting the context from target and vice versa. Doing so it can understand which words have a similar context.(*CBOW* and *Skip-Gram algorithms*)"
   ]
  },
  {
   "cell_type": "markdown",
   "metadata": {},
   "source": [
    "Now that we have seen a simplified example and its main differences with Word2Vec, let's see in more detail how actually Word2Vec works \n",
    "\n",
    "we need to have a large amount of textual data. It's important to notice these data are not a collection of individual words but a big set of sentences (corpus).Assuming that our corpus has $T$ words, we can address each word like this:\n",
    "\\[ t = 1,2,...,T\\]\n",
    "Next, we assume that each word in this limited vocabulary is re presentable by a vector and to start we assign each word a random vector. Iterating through all corpus, we pick each word (center word $w_{j}$) and assume that it (its representation in this case) should be able to predict its context. Context of each word are the words in a window with length of $m$ around it. We repeat these iterations hundreds of thousand of times , each time changing the representation in a way that the prediction will be better. We can summarize what we have said until now in the following formula which calculates the likelihood of our model:\n",
    "$$L(\\theta ) = \\prod_{t=1}^{T} \\prod_{-m\\leqslant j\\leqslant m} P(w_{t+j}\\mid w_{t};\\theta)$$\n",
    "$$j\\neq 0$$\n",
    "\n",
    "$\\boldsymbol{L}$: Model Likelihood or how good is our model in predicting context from center words\n",
    "\n",
    "$\\boldsymbol{\\theta}$: Model variables we need to optimize. In our case the only variable we have in hand is the vector representations of words. It means the only thing that defines the performance of our probability model is are the vectors we come with for each word in the corpus.\n",
    "\n",
    "\n",
    "$\\boldsymbol{m}$: The window size for the context words around the center word\n",
    "\n",
    "$\\boldsymbol{P(w_{t+j}\\mid w_{t};\\theta)}$: Probability of having $w_{t+j}$ as a context word given the $w_{t}$ as center word and $\\theta$ as vector representation.\\\\\n",
    "\n",
    "While being able to calculate the model performance (model likelihood) for a certain $\\theta$ is good, we need something that helps us with actually finding the best $\\theta$. To do so we use a certain function called \"objective function\"(or loss function) which is a transformation of model likelihood. Doing such a transformation we will have $J(\\theta)$ which we can look at it as *Error* we get, assigning vectors to words. It means by minimizing it we are getting the best vectors possible for each word. Let's take a look this transformation and examine the internal pieces: \n",
    "$$\n",
    "J(\\theta)=-\\frac{1}{T}\\log L(\\theta) = -\\frac{1}{T}\\sum_{t=1}^{T}\\sum_{-m\\leqslant j\\leqslant m}\\log P(w_{t+j}\\mid w_{t};\\theta)\n",
    "$$\n",
    "$$j\\neq 0$$\n",
    "\n",
    "As we said before $J(\\theta)$ is the transformed form of $L(\\theta)$. Let's see what are the differences:\n",
    "\n",
    "- Negative sign(-) : indicates that we want to minimize the objective function. (we can achieve the same result also with maximizing the objective function)\n",
    "- $\\frac{1}{T}$ : By adding it we calculate the Likelihood for every word in a corpus of $T$ words.\n",
    "- log: using logarithm (a usual operator in optimization processes) we convert $\\prod$ to $\\sum$\n",
    "\n",
    "Before talking about the last piece, $P(w_{t+j}\\mid w_{t};\\theta)$, let's summaries what we said until this point: Our final goal is to find vectors that can understand the meaning behind words and are able to discover the similarities between them. In order to find such vectors we have introduced a loss function which by minimizing it we achieve our primary goal. Minimizing this cost function means maximizing the total probability that our model is able to predict the correct context from each word.\\\\\n",
    "Let's see a simple example: Imagine that we are dealing with a corpus with only 5 words and let's consider the window size as 1. so:\n",
    "$$T=5\\,\\,\\,and\\,\\,\\,m=1$$"
   ]
  },
  {
   "cell_type": "markdown",
   "metadata": {},
   "source": [
    "<img src=\"Images/w2v_schema.png\" width=400>"
   ]
  },
  {
   "cell_type": "markdown",
   "metadata": {},
   "source": [
    "So we can expand the loss function as:\n",
    "\n",
    "\n",
    "\\begin{equation*}\n",
    "\\begin{split}\n",
    "L(\\theta_{i}) & = -\\frac{1}{5} \\sum_{t=1}^{5}\\sum_{-1\\leqslant j\\leqslant 1}\\log P(w_{t+j}\\mid w_{t}) \\\\\n",
    " & = -\\frac{1}{5}(\\log\\,P(w_2\\mid w_1)+ \\\\\n",
    " & \\log P(w_1\\mid w_2) + \\log P(w_3\\mid w_2)+\\\\\n",
    " & \\log P(w_2\\mid w_3) + \\log P(w_4\\mid w_3)+\\\\\n",
    " & \\log P(w_3\\mid w_4) + \\log P(w_5\\mid w_4)+\\\\\n",
    " & \\log P(w_4\\mid w_5) )\n",
    "\\end{split}\n",
    "\\end{equation*}"
   ]
  },
  {
   "cell_type": "markdown",
   "metadata": {},
   "source": [
    "Ok, now let's talk about the elephant in the room, $P(w_{t+j}\\mid w_{t};\\theta)$!\\\n",
    "We said before that it is the probability of having a context word given the center word. But how can we calculate such a probability? As it can be seen, we are dealing with a conditional probability or more precisely, a probability distribution. Take another look at the result of the previous example. The last 5 lines show-for each word of 5 words - what is the probability of having such word given its context words ( lines one and five have just one expression since the only context of words 1 and 5 are respectively words 2 and 4). In order to calculate this probability, we can use a trick: Considering two different vector representations for each word based on its position, showing it with $v$ when it's a center word and mentioning it with $u$ when it's a context word. Having such assumption we can use the following formula:\n",
    "\n",
    "$$P(o\\mid c)=\\frac{e^{u_{o}^{T}v_{c}}}{\\sum_{w\\in V}e^{u_{w}^{T}v_{c}}}$$\n",
    "$u_{o}$: vector of context word\\\n",
    "$v_{c}$: vector of center word\\\n",
    "$u_{w}$: vector of a word not in a center position\\\n",
    "$P(o\\mid c)$: Probability of having Outside word $o$ having center word $c$\n",
    "\n",
    "What we see in this formula is combination of two things:\n",
    "- Dot product of two vectors\n",
    "- Softmax function\n",
    "\n",
    "It means we can re-write our formula in the following way:\n",
    "\n",
    "$$P(o\\mid c) = Softmax(Probability(\\textbf{o}\\,\\,being\\,\\,context\\,\\,for\\,\\textbf{c})) = Softmax(dot\\,product(o.c))$$\n",
    "\n",
    "**Dot-product**\\\n",
    "As we said before, a vector has two values. Dot product of two vectors (a scaler) reflects both magnitude and directions of both vectors:\n",
    "$$a.b = \\left | a \\right |\\times \\left | b \\right | \\times \\cos( \\theta)$$\n",
    "$\\left | a \\right |,\\left | b \\right |$: length(magnitude) of $a$ and $b$ vectors.\\\n",
    "$\\theta$ : Angle between directions of $a$ and $b$ vectors.\n",
    "\n",
    "\n",
    "Looking at the formula above it is quite easy to understand how the magnitude of vectors contribute to the outcome, the role of $\\cos(\\theta)$ might be less evident. We know that $\\cos(\\theta)$ should somehow reflect the angle between two vectors but there are two questions here:\n",
    "\n",
    "- Why we need to use angle in the first place? why using vector lengths is not enough?\n",
    "- How exactly $\\cos(\\theta)$ represents the angle? let's say, why not we use $sin(\\theta)$ instead?\n",
    "\n",
    "\n",
    "To answer the first question, let's first remind ourselves the goal of a dot-product: combining two vectors to obtain their product. So we can expect that having vectors as ingredients, we need to consider all their characteristics which as we mentioned before, are magnitude and direction. for example looking at the following simple example we can see that it's trivial to think that given that both vectors have the same directions it's possible to say that we can obtain the multiplication of these vectors by multiplying their lengths:\n"
   ]
  },
  {
   "cell_type": "markdown",
   "metadata": {},
   "source": [
    "<img src=\"Images/simple_vectors.png\" width=\"250\" >"
   ]
  },
  {
   "cell_type": "markdown",
   "metadata": {},
   "source": [
    "$$\\left | a \\right |\\times \\left | b \\right |  $$\\\n",
    "But the things won't remain always as simple as we have seen above. Look at the this example:\n"
   ]
  },
  {
   "cell_type": "markdown",
   "metadata": {},
   "source": [
    "<img src=\"Images/simple_cosine.png\" width=\"400\" >"
   ]
  },
  {
   "cell_type": "markdown",
   "metadata": {},
   "source": [
    "The three vectors $\\overrightarrow{a}, \\overrightarrow{b}$ and $\\overrightarrow{c}$ have the same length ($\\left | a \\right | = \\left | b \\right | = \\left | c \\right |$) but we in order to calculate $a.b$ or $a.c$ we can't just simply multiply their lengths because we can just to such a thing only if two vectors have the same direction. So, we need to somehow convert one of the vectors in a way to have the same direction as the other vector. The way we can achieve this is to use trigonometry $Cosine$ function. As you can see in the figure above, after converting  $\\overrightarrow{b}$ and  $\\overrightarrow{c}$ using $Cosine$ function we can see that $b.a$ will be greater than $c.a$."
   ]
  },
  {
   "cell_type": "markdown",
   "metadata": {},
   "source": [
    "<img src=\"Images/3d_cosine.png\" width=\"600\" >"
   ]
  },
  {
   "cell_type": "markdown",
   "metadata": {},
   "source": [
    "The situation we face dealing with words will be quite different from the example above in 2 dimensional space.As we said before, even if we are going to use dense vectors instead of sparse outcome of one-hot encoding, the vector space still would be too complex to be visually demonstrated. In the figure above we see a 3-dimensional vector space with 3 vectors. Even without actually calculating dot products, we can almost certainly say that $a.b$ is greater than $a.c$ given that $\\phi$ the angle between $a$ and $b$ is close to $90^{\\circ}$ which brings $c.b$ close to zero. As a result, we can see that in our case of word vectors, we can expect that similar vectors have a greater dot product respect to the dissimilar vectors.\n",
    "Back to our formula we can see that we have two parts indicating a dot product: $u_{o}^{T}v_{c}$ and $u_{w}^{T}v_{c}$ .As you can see we are using matrix transpose since we can't directly multiply two columns vectors. Following is the general form of dot product:\n",
    "\n",
    "$$A^{T}B = \n",
    "\\begin{bmatrix}\n",
    "  A_1, A_2, \\dots, A_n\n",
    "\\end{bmatrix}\n",
    "\\begin{bmatrix}\n",
    "  B_1 \\\\ B_2 \\\\ \\vdots \\\\ B_n\n",
    "\\end{bmatrix} = \n",
    "A_1 B_1 + A_2 B_2 + \\vdots + A_n B_n = A.B\n",
    "$$\n",
    "\n",
    "**Softmax Function**\\\n",
    "Before, explaining the softmax function let's take a quick look at the equation we have started with: (Remember that its output should be a \n",
    "\n",
    "\n",
    "$$\\frac{e^{\\color{blue}u_{\\color{blue}o}^\\color{blue}{T}\\color{blue}v_{\\color{blue}c}}}{\\sum_{w\\in V}e^{\\color{blue}u_{\\color{blue}w}^\\color{blue}{\\color{blue}T}\\color{blue}v_{\\color{blue}c}}}$$\n",
    "\n",
    "The blue parts are the pairwise dot-product of vectors as we have discussed in the previous part. Now we should explore the rest of the equation.\n",
    " What we see in the above equation is implementation of dot-products in the following function:\n",
    "\n",
    "$$\\sigma (z)_i =\\frac{e^{z_{i}}}{\\sum_{j=1}^{K}e^{z_{j}}} \\,\\,\\,\\,\\,\\,\\,\\,\\,for\\,\\,i=1,\\dots,K$$\n",
    "\n",
    " What we can infer from this function is that it's calculating some sort of proportion of total sum, something like this:\n",
    "\n",
    "\n",
    "$$\\frac{Something}{Sum(Everything)}$$\n",
    "\n",
    " The first thing  comes to mind is to use it to understand how dot-product of a certain word and a center word is different from dot-product of that word with other words of the corpus.Something like this:\n",
    "\n",
    "$$\\frac{Probability(A\\,certain\\,word\\,being\\,context\\,of\\,a\\, specific\\,word)}{Sum(Probability(A\\,certain\\,word\\,being\\,context\\, of\\,any\\,other\\,word\\,in\\,the\\,corpus))}$$\n",
    "\n",
    " So maybe we can write a equation similar to this:\n",
    "\n",
    "$$\\frac{u_{o}^{T}v_{c}}{\\sum_{w\\in V}u_{w}^{T}v_{c}}$$\n",
    "\n",
    " The above equation gives us a vector with length of $V$ (our corpus) which each element is the following proportion:\n",
    "\n",
    "$$\\frac{dot-product(A\\,certain\\,word\\,being\\,context\\,of\\,a\\, specific\\,word)}{Sum(dot-product(A\\,certain\\,word\\,being\\,context\\, of\\,any\\,other\\,word\\,in\\,the\\,corpus))}$$\n",
    "\n",
    "Sounds great! There's just a small problem! Going back to the initial equation of likelihood, we should have had a probability part but What we get from the formula above is not a probability at all!\n",
    "There are two problems:\n",
    "\n",
    "- Sum of the items in the vector won't be equal to $1$.\n",
    "- Each item is not necessarily between $0$ and $1$\n",
    "\n",
    "\n",
    " The reason is quite simple! The outcome of a dot-product is a \"scaler\", not a probability $(0\\leqslant x\\leqslant 1)$. So we need to somehow \"transform\" these scalers to probabilities. This is the reason in the initial formula we used $e$ to transform the scaler result of the dot products to a number between 0 and 1."
   ]
  },
  {
   "cell_type": "markdown",
   "metadata": {},
   "source": [
    "Ok, Until here, we saw all the pieces of Cost function one by one. or the last time let's summarize what we said until now and put these separate pieces together:\n",
    "\n",
    "**Cost function should be minimized $\\overset{so}{\\Rightarrow}$\n",
    "Individual probabilities should be maximized $\\overset{so}{\\Rightarrow}$\n",
    "Word vectors should represent the relationship between words**\n",
    "\n",
    "\n",
    "It means the only way we can minimize the cost function is to come up with a high probability for a a certain word being a context for another certain word, which in turn, means we should somehow find the correct vectors for words but the question is : How can we find such vectors? The answer - at least from conceptual point of view - is easy : Initiate each word with a random vector, calculate the Cost Function, change the vectors in a way that give a lower cost, calculate the cost and repeat these steps until the cost can't be go lower (you reach the global minimum for the cost). The following figure shows a simplistic representation of these steps:\n",
    "\n",
    "We start with a random set of vectors ($\\theta_{i}$) and use it to calculate the cost ($L(\\theta_{i})$). Using a method called **gradient descent** (more on this later) we change the $\\theta$ - little by little - until we get to the $\\dot{\\theta}$ which returns the minimum cost possible ($L(\\dot{\\theta})$)."
   ]
  },
  {
   "cell_type": "markdown",
   "metadata": {},
   "source": [
    "<img src=\"Images/w2v_loss.png\" width=\"400\">"
   ]
  },
  {
   "cell_type": "markdown",
   "metadata": {},
   "source": [
    "We see that using gradient descent, eventually we can arrive to the point (word vectors) which minimize the cost bu how gradient descent works? Simply put, it means taking small and directed(non-random) steps toward the minimum point from the starting point (which in our case was randomly generated). To take these steps we need to have to things:\n",
    "\n",
    "- How big should be the step ($\\alpha$)\n",
    "- What should be the direction we move $\\theta$ to\n",
    "\n",
    "To understand these parameters, let's see the classic example of **gradient descent**: Imagine that you're a rock climber. You go to the bottom of a mountain, park your car and start climbing. after 6 hours,  you're somewhere near the top of a mountain but since it's getting dark (and you're tired), you decide to go down back to where you've parked your car. The problem is, there's a thick fog in the mountain and while you know your final destination is down (in our case, down means minimizing our cost function), you can't see the whole way until the destination point. So in this case you decide to choose a direction that seems right to you, take some steps, evaluate your position and choose another direction. Eventually by repeating these actions you'll(hopefully) get to your car. This is all \\textbf{GD} does. Starting from a given initial point, it first calculates the partial depravities(A partial derivative shows you the direction of the point that makes the function minimum or maximum) then, using the step ($\\alpha$) you've defined beforehand, it updates the $\\theta$ and recalculates the cost. Repeating these steps we'll finish with the best set of vectors for the our corpus.\n",
    "\n",
    "Now that we are familiar with the internal mechanism Word2Vec uses to calculate the word vectors, let's take a quick look at more detail on the tool it uses to  such vectors.\n",
    "\n",
    "As you can remember we have said that Word2Vec \"assigns random vectors to words and keeps modifying \n",
    "them until they produce the minimum cost possible\". In order to do this procedure, Word2Vec uses \n",
    "Neural Networks. Neural Networks are one of the mostly used algorithms for a wide range of applications\n",
    "from forecasting the stock prices to adding cat ears to your selfies. Here we won't go into detail of \n",
    "NN since doing so needs its own book(books?) and will takes us away from our goal but in order to \n",
    "have a general idea about NN let's take a look at it. Before jumping directly to NNs, let's start with\n",
    "a simple example: Snake game. I this game you should guide the snake to the point having three rules:\n",
    " + You can choose between a Horizontal and vertical moves but not both at the same time\n",
    " + The snake should hit himself!\n",
    "\n",
    "Now imagine a slightly different game:\n",
    "\n",
    "- You can move Horizontally, Vertically, Diagonally.\n",
    "- You can jump , disappear and re-appear\n",
    "- You can mix the previous two moves together\n",
    "- There are fixed and moving obstacles\n",
    "\n",
    "\n",
    "As you can see the simple Snake game suddenly becomes much more harder as you should control more parameters\n",
    ",face harsher obstacles and achieve a harder goal.\n",
    "Now for the last time let's consider a different scenario: \n",
    "\n",
    "- We have 1,000,000 parameters to control\n",
    "- You can combine all these parameters together and each combination has a different result\n",
    "- Good luck!\n",
    "\n",
    "Well, this time it seems we need something more than our fantastic human brains! That's where\n",
    "Neural Networks come to help us. What a Neural Network does is to take hundreds or thousands \n",
    "(depending on the problem in hand) of solved cases and trying different parameters, find out the\n",
    "them set of them which produce the less amount of error(or are closer to the correct cases.)\n",
    "This is what happens inside the word2vec algorithm; as we gave it our corpus at it consider the position\n",
    "of words as the correct neighbouring for the words. As a result and using Neural networks it returns\n",
    "word vectors which represent these neighbouring."
   ]
  },
  {
   "cell_type": "markdown",
   "metadata": {},
   "source": [
    "## Training Methods"
   ]
  },
  {
   "cell_type": "markdown",
   "metadata": {},
   "source": [
    "At the beginning of this notebook, we saw some of the difference our initial example had with the actual Word2Vec deliberately left out one important aspect as we weren't familiar with the maths behind the algorithm. This aspect is the **Training method**. We saw that in order to calculate the multi-class loss we should do the following calculation:\n",
    "\n",
    "$$\n",
    "J(\\theta)=-\\frac{1}{T}\\log L(\\theta) = -\\frac{1}{T}\\sum_{t=1}^{T}\\sum_{-m\\leqslant j\\leqslant m}\\log P(w_{t+j}\\mid w_{t};\\theta)\n",
    "$$\n",
    "$$j\\neq 0$$\n",
    "\n",
    "Which is calculated based on :\n",
    "$$P(o\\mid c)=\\frac{e^{u_{o}^{T}v_{c}}}{\\sum_{w\\in V}e^{u_{w}^{T}v_{c}}}$$ \n",
    "\n",
    "The problem is that calculation of its denominator is computationally expensive. To resolve it, Word2Vec introduces two approximations, replacing multi-class loss with a set of binary logistic losses:\n",
    "- Negative sampling\n",
    "- Hierarchical Softmax\n",
    "\n",
    "**Negative Sampling**:\n",
    "We consider the words in our context as positive and all the words not a part of context of our target word as negative samples. \n",
    "\n",
    "**hierarchical Softmax**:\n",
    "In hierarchical Softmax we represent every word as a set of codes (Calculated by a tree-based method caleld Huffman Tree) to calculate the probability for all words of the vocabulary."
   ]
  },
  {
   "cell_type": "markdown",
   "metadata": {},
   "source": [
    "Until now, in all examples we have used a specific case: predicting context words having the center word. This, called skip-gram- is one of the two internal algorithms Word2Vec can use. The other algorithm is called Continuous Bag Of Words (CBOW) which is when we try to predict the center word using the context words. While having a similar goal, these algorithms return slightly different vectors for words. It also means that the conditional probability formula we saw above will be modified accordingly:\n",
    "\n",
    "$$P(c\\mid o)=\\frac{e^{h_{c}^{T}v_{o}}}{\\sum_{w\\in V}e^{h_{w}^{T}v_{o}}}$$ \n",
    "while $h_c$ is the sum of the words in the context:\n",
    "$$h_c = \\sum_{w\\in V}x_c$$\n",
    "**Skip-gram**: The input to the model is $w_i$, and the output is $w_{i-2},w_{i-1},w_{i+1},w_{i+2}$. So the task here is _\"predicting the context given a word\"_.(Works well with small amount of the training data, represents well even rare words or phrases)\n",
    "\n",
    "__CBOW__: The input to the model is $𝑤_{𝑖−2},𝑤_{𝑖−1},𝑤_{𝑖+1},𝑤_{𝑖+2}$, the preceding and following words of the target word. The output of the neural network will be $𝑤_𝑖$. so the task is _\"predicting the word given its context\"_ (Several times faster to train than the skip-gram, slightly better accuracy for the frequent words)"
   ]
  },
  {
   "cell_type": "markdown",
   "metadata": {},
   "source": [
    "<img src=\"Images/cbow_skipgram.png\" height=\"300\" width=\"800\">\n",
    "\n",
    "_Note : As a hyperparameter you should define the Max window size but don't forget that the algorithm won't necessarily use all the words in the window but instead it randomly choose some of the words based on the distance they have from the target word (in a way that closer words have a higher chance to be picked)_"
   ]
  },
  {
   "cell_type": "markdown",
   "metadata": {},
   "source": [
    "Hopefuly, until here we have learned the math behind the Word2Vec algorithm. In order to perform the described calculations we need a Neural Network architecture which requires having a basic understanding of Neural Networks.\n",
    "(In case you don't feel confident about NNs, take a look at [this](https://www.youtube.com/watch?v=aircAruvnKk&pbjreload=10) or [this](https://www.youtube.com/watch?v=BR9h47Jtqyw&t=1342s) videos."
   ]
  },
  {
   "cell_type": "markdown",
   "metadata": {},
   "source": [
    "<img src=\"Images/NN_1.png\" height=\"300\" width=\"800\">"
   ]
  },
  {
   "cell_type": "markdown",
   "metadata": {},
   "source": [
    "## Creating a Word2Vec model"
   ]
  },
  {
   "cell_type": "markdown",
   "metadata": {},
   "source": [
    "Ok, now that we now som basic concepts about distributed semantic models and word2vec in specific, let's try to implement the latter with a real dataset.\n",
    "The following diagram shows the general process we will follow in notebook\n",
    "<img src=\"Images/process_2.png\" height=\"300\" width=\"1100\">"
   ]
  },
  {
   "cell_type": "markdown",
   "metadata": {},
   "source": [
    "## Requirements"
   ]
  },
  {
   "cell_type": "markdown",
   "metadata": {},
   "source": [
    "This notebook is written in Python3 and needs the following libraries:\n",
    "\n",
    "* **pandas** _(pip install pandas)_\n",
    "* **numpy** _(python -m pip install --user numpy)_\n",
    "* **gensim** _(pip install --upgrade gensim)_\n",
    "* **tqdm** _(pip install tqdm)_\n",
    "* **matplotlib** _(python -m pip install -U matplotlib)_\n",
    "* **sklearn** _(pip install -U scikit-learn)_\n",
    "* **SpaCy** _(python3 -m pip install spacy)_ --> python -m spacy download en\n",
    "* **testfixtures** _(pip install testfixtures)_\n",
    "\n",
    "To make sure which one you already have and which you should install, try to run the cell with the title **Loading libraries** and install the missing libraries accordingly."
   ]
  },
  {
   "cell_type": "markdown",
   "metadata": {},
   "source": [
    "<img src=\"Images/header.png\" width=\"1200\" >\n",
    "\n",
    "To run practical examples I use the Simpsons [dataset from Kaggle](https://www.kaggle.com/pierremegret/dialogue-lines-of-the-simpsons/download)  which consists more that 150k lines and covers more than 600(old!) episodes."
   ]
  },
  {
   "cell_type": "markdown",
   "metadata": {},
   "source": [
    "### Loading libraries"
   ]
  },
  {
   "cell_type": "code",
   "execution_count": 1,
   "metadata": {
    "ExecuteTime": {
     "end_time": "2019-03-14T16:14:05.372015Z",
     "start_time": "2019-03-14T16:14:05.325445Z"
    }
   },
   "outputs": [],
   "source": [
    "import numpy as np\n",
    "import spacy\n",
    "import re\n",
    "import os\n",
    "import pandas as pd\n",
    "import itertools\n",
    "from tqdm import tqdm_notebook\n",
    "import matplotlib.pyplot as plt\n",
    "import warnings\n",
    "import umap.umap_ as umap # pip install umap-learn\n",
    "import seaborn as sns\n",
    "\n",
    "import gensim.parsing as gm\n",
    "from gensim.parsing.preprocessing import preprocess_string\n",
    "from gensim.models.phrases import Phrases, Phraser\n",
    "from gensim.models import Word2Vec, Doc2Vec\n",
    "from gensim.models.doc2vec import TaggedDocument\n",
    "from gensim.test.test_doc2vec import ConcatenatedDoc2Vec\n",
    "\n",
    "from sklearn.manifold import TSNE\n",
    "from sklearn.decomposition import PCA\n",
    "from sklearn import utils\n",
    "from sklearn.linear_model import LogisticRegression\n",
    "from sklearn.metrics import accuracy_score, f1_score"
   ]
  },
  {
   "cell_type": "markdown",
   "metadata": {},
   "source": [
    "### Defining some parameters"
   ]
  },
  {
   "cell_type": "code",
   "execution_count": 2,
   "metadata": {
    "ExecuteTime": {
     "end_time": "2019-03-14T16:15:03.583831Z",
     "start_time": "2019-03-14T16:15:03.560700Z"
    }
   },
   "outputs": [],
   "source": [
    "plt.rcParams['figure.figsize'] = (15, 10)\n",
    "warnings.filterwarnings('ignore')"
   ]
  },
  {
   "cell_type": "markdown",
   "metadata": {},
   "source": [
    "### Loading data from CSV file"
   ]
  },
  {
   "cell_type": "code",
   "execution_count": 3,
   "metadata": {
    "scrolled": true
   },
   "outputs": [
    {
     "data": {
      "text/html": [
       "<div>\n",
       "<style scoped>\n",
       "    .dataframe tbody tr th:only-of-type {\n",
       "        vertical-align: middle;\n",
       "    }\n",
       "\n",
       "    .dataframe tbody tr th {\n",
       "        vertical-align: top;\n",
       "    }\n",
       "\n",
       "    .dataframe thead th {\n",
       "        text-align: right;\n",
       "    }\n",
       "</style>\n",
       "<table border=\"1\" class=\"dataframe\">\n",
       "  <thead>\n",
       "    <tr style=\"text-align: right;\">\n",
       "      <th></th>\n",
       "      <th>raw_character_text</th>\n",
       "      <th>spoken_words</th>\n",
       "    </tr>\n",
       "  </thead>\n",
       "  <tbody>\n",
       "    <tr>\n",
       "      <th>64421</th>\n",
       "      <td>Marge Simpson</td>\n",
       "      <td>There's a happy baby. Aren't you? Aren't you?</td>\n",
       "    </tr>\n",
       "    <tr>\n",
       "      <th>55324</th>\n",
       "      <td>Ralph Wiggum</td>\n",
       "      <td>I wanna twirl.</td>\n",
       "    </tr>\n",
       "    <tr>\n",
       "      <th>27340</th>\n",
       "      <td>Homer Simpson</td>\n",
       "      <td>There. Done and done.</td>\n",
       "    </tr>\n",
       "    <tr>\n",
       "      <th>87432</th>\n",
       "      <td>Homer Simpson</td>\n",
       "      <td>All is well. Goodbye forever.</td>\n",
       "    </tr>\n",
       "    <tr>\n",
       "      <th>114944</th>\n",
       "      <td>Lisa Simpson</td>\n",
       "      <td>Then we heard a loud crash...we were tempted t...</td>\n",
       "    </tr>\n",
       "    <tr>\n",
       "      <th>79939</th>\n",
       "      <td>Butler</td>\n",
       "      <td>....and Mister G. K. Willington, Esquire.</td>\n",
       "    </tr>\n",
       "    <tr>\n",
       "      <th>129599</th>\n",
       "      <td>Homer Simpson</td>\n",
       "      <td>Why you little --</td>\n",
       "    </tr>\n",
       "    <tr>\n",
       "      <th>114273</th>\n",
       "      <td>Homer Simpson</td>\n",
       "      <td>I hope our friend wasn't in an accident.</td>\n",
       "    </tr>\n",
       "    <tr>\n",
       "      <th>78979</th>\n",
       "      <td>C. Montgomery Burns</td>\n",
       "      <td>I just bought a new car. A nice foreign number...</td>\n",
       "    </tr>\n",
       "    <tr>\n",
       "      <th>92439</th>\n",
       "      <td>C. Montgomery Burns</td>\n",
       "      <td>Skinny dip!</td>\n",
       "    </tr>\n",
       "  </tbody>\n",
       "</table>\n",
       "</div>"
      ],
      "text/plain": [
       "         raw_character_text                                       spoken_words\n",
       "64421         Marge Simpson      There's a happy baby. Aren't you? Aren't you?\n",
       "55324          Ralph Wiggum                                     I wanna twirl.\n",
       "27340         Homer Simpson                              There. Done and done.\n",
       "87432         Homer Simpson                      All is well. Goodbye forever.\n",
       "114944         Lisa Simpson  Then we heard a loud crash...we were tempted t...\n",
       "79939                Butler          ....and Mister G. K. Willington, Esquire.\n",
       "129599        Homer Simpson                                  Why you little --\n",
       "114273        Homer Simpson           I hope our friend wasn't in an accident.\n",
       "78979   C. Montgomery Burns  I just bought a new car. A nice foreign number...\n",
       "92439   C. Montgomery Burns                                        Skinny dip!"
      ]
     },
     "execution_count": 3,
     "metadata": {},
     "output_type": "execute_result"
    }
   ],
   "source": [
    "df = pd.read_csv('./Datasets/simpsons_dataset.csv',\n",
    "                sep=',').dropna().reset_index(drop=True)\n",
    "df.sample(10)"
   ]
  },
  {
   "cell_type": "markdown",
   "metadata": {},
   "source": [
    "### Pre-Processing"
   ]
  },
  {
   "cell_type": "markdown",
   "metadata": {},
   "source": [
    "Just like any other ML task, we should start our work by preprocessing the data. To start let's use gensim's text processing tools to define a function. Consider that this function is created for this specific dataset. For example, it doesn't clean html tags, URLs,... since we know that they won't be present in our data. As you can see I commented out the stem_text function since we later use SpaCy to Lemmatize the text. (More on Lemmatization :\n",
    "[Lemmatization Approaches with Examples in Python](https://www.machinelearningplus.com/nlp/lemmatization-examples-python/) )"
   ]
  },
  {
   "cell_type": "code",
   "execution_count": 5,
   "metadata": {
    "ExecuteTime": {
     "end_time": "2019-03-14T16:16:00.278280Z",
     "start_time": "2019-03-14T16:16:00.269003Z"
    }
   },
   "outputs": [],
   "source": [
    "def text_preproc(text: str):\n",
    "    \"\"\"Performs pre-processing steps on the given string.\n",
    "    \n",
    "    Pre-processing is done using methods from gensim module.\n",
    "    Methods are hard-coded in the function.\n",
    "    \n",
    "    Args:\n",
    "        text: A string\n",
    "    \n",
    "    Returns:\n",
    "        A list with tokenized and Pre-processed tokens of the given string.\n",
    "    \"\"\"\n",
    "\n",
    "    my_filter = [\n",
    "        lambda x: x.lower(),\n",
    "        gm.strip_punctuation,\n",
    "        gm.strip_multiple_whitespaces,\n",
    "        gm.strip_numeric,\n",
    "        gm.remove_stopwords,\n",
    "        gm.strip_short,\n",
    "        gm.strip_tags,\n",
    "        #gm.stem_text\n",
    "    ]\n",
    "    return preprocess_string(text, filters=my_filter)"
   ]
  },
  {
   "cell_type": "code",
   "execution_count": 6,
   "metadata": {},
   "outputs": [
    {
     "data": {
      "application/vnd.jupyter.widget-view+json": {
       "model_id": "e54d410855b848e3840f7eff18f1e0dd",
       "version_major": 2,
       "version_minor": 0
      },
      "text/plain": [
       "HBox(children=(IntProgress(value=0, description='Pre-Processing: Cleaning', max=131853, style=ProgressStyle(de…"
      ]
     },
     "metadata": {},
     "output_type": "display_data"
    },
    {
     "name": "stdout",
     "output_type": "stream",
     "text": [
      "\n",
      "\n"
     ]
    },
    {
     "data": {
      "application/vnd.jupyter.widget-view+json": {
       "model_id": "6e44c8a4c9024167b448763f5209750f",
       "version_major": 2,
       "version_minor": 0
      },
      "text/plain": [
       "HBox(children=(IntProgress(value=0, description='Pre-Processing: Lemmatizing', max=131853, style=ProgressStyle…"
      ]
     },
     "metadata": {},
     "output_type": "display_data"
    },
    {
     "name": "stdout",
     "output_type": "stream",
     "text": [
      "\n"
     ]
    },
    {
     "data": {
      "application/vnd.jupyter.widget-view+json": {
       "model_id": "35bec02bd93b497b8d401e679e54245a",
       "version_major": 2,
       "version_minor": 0
      },
      "text/plain": [
       "HBox(children=(IntProgress(value=0, description='Pre-Processing: Deduplicating', max=125951, style=ProgressSty…"
      ]
     },
     "metadata": {},
     "output_type": "display_data"
    },
    {
     "name": "stdout",
     "output_type": "stream",
     "text": [
      "\n"
     ]
    }
   ],
   "source": [
    "# grabbing the column which contains the text\n",
    "text_column = 'spoken_words'\n",
    "data = df[text_column]\n",
    "\n",
    "# passing texts to the function we defined above\n",
    "training_set_raw = []\n",
    "for d in tqdm_notebook(data, desc='Pre-Processing: Cleaning'):\n",
    "    training_set_raw.append((text_preproc(d)))\n",
    "\n",
    "# initialize spacy 'en' model\n",
    "nlp = spacy.load('en', disable=['parser', 'ner'])\n",
    "\n",
    "# creating sentences from tokens\n",
    "training_sentence = [' '.join(d) for d in training_set_raw]\n",
    "\n",
    "# lmmatizing sentences\n",
    "training_set_0 = []\n",
    "for ts in tqdm_notebook(training_sentence, desc='Pre-Processing: Lemmatizing'):\n",
    "    doc = nlp(ts)\n",
    "    lemm = [token.lemma_ for token in doc]\n",
    "    if len(lemm) is not 0:\n",
    "        training_set_0.append(lemm)\n",
    "        \n",
    "# removing duplicated data\n",
    "training_set = []\n",
    "for l in tqdm_notebook(training_set_0, desc='Pre-Processing: Deduplicating'):\n",
    "    if l not in training_set:\n",
    "        training_set.append(l)"
   ]
  },
  {
   "cell_type": "code",
   "execution_count": 21,
   "metadata": {},
   "outputs": [
    {
     "name": "stdout",
     "output_type": "stream",
     "text": [
      "-No, actually, it was a little of both. Sometimes when a disease is in all the magazines and all the news shows, it's only natural that you think you have it.\n",
      "-actually little disease magazine news show natural think\n",
      "----------------------------------------\n",
      "-Where's Mr. Bergstrom?\n",
      "-bergstrom\n",
      "----------------------------------------\n",
      "-I don't know. Although I'd sure like to talk to him. He didn't touch my lesson plan. What did he teach you?\n",
      "-know sure like talk touch lesson plan teach\n",
      "----------------------------------------\n",
      "-That life is worth living.\n",
      "-life worth live\n",
      "----------------------------------------\n",
      "-The polls will be open from now until the end of recess. Now, just in case any of you have decided to put any thought into this, we'll have our final statements. Martin?\n",
      "-poll open end recess case decide think final statement martin\n",
      "----------------------------------------\n"
     ]
    }
   ],
   "source": [
    "# let's see the result of our pre-processing for the first 5 sentences\n",
    "for i,j in zip(data[:5], training_set[:5]):\n",
    "    print(f\"-{i}\\n-{' '.join(j)}\")\n",
    "    print('-'*40)"
   ]
  },
  {
   "cell_type": "markdown",
   "metadata": {},
   "source": [
    "### N-Grams"
   ]
  },
  {
   "cell_type": "markdown",
   "metadata": {},
   "source": [
    "In this particular case we want to embed words using their neighbours, the words are frequently appear (or doesn't appear) close to them. Imagine that you want to calculate the occurrence probability of a set of three words : \n",
    "$$P(w_{1},w_{2},w_{3})$$\n",
    "We can write it in this way:\n",
    "$$P(w_{1},w_{2},w_{3}) = P(w_{1})P(w_{2}\\mid w_{1})P(w_{3}\\mid w_{1} w_{2})$$\n",
    "\n",
    "The general form of this formula is named Chain Rule:\n",
    "\n",
    "$$P(w_{1},w_{2},w_{3},...,w_{n}) = P(w_{1})P(w_{2}\\mid w_{1})...P(w_{n}\\mid w_{1}...w_{n-1})$$\n",
    "\n",
    "$$or$$\n",
    "\n",
    "$$P(w_{1}w_{2}...w_{i} )=\\prod  P(w_{i}\\mid w_{1} w_{2}...w_{i-1})$$\n",
    "\n",
    "_if you're interested in this topic take a look at [this video](https://www.youtube.com/watch?v=dkUtavsPqNA\n",
    ")_"
   ]
  },
  {
   "cell_type": "markdown",
   "metadata": {},
   "source": [
    "Ok, let's calculate the bigrams for our sentences. To do so we use Phrases class from Gensim library. According to its documentation Phrases automatically detect common phrases – multi-word expressions / word n-grams – from a stream of sentences."
   ]
  },
  {
   "cell_type": "code",
   "execution_count": 8,
   "metadata": {
    "ExecuteTime": {
     "end_time": "2019-03-14T16:28:03.068567Z",
     "start_time": "2019-03-14T16:28:03.057239Z"
    },
    "code_folding": []
   },
   "outputs": [],
   "source": [
    "def create_ngrams(data: list, log: bool = True, n=2):\n",
    "    \"\"\"Creates ngrams(2-3) from the given list of tokenized and cleaned data.\n",
    "    \n",
    "    Args:\n",
    "        data: a list of ([tokens], key) pairs.\n",
    "        log: If True, it prints the status.\n",
    "        \n",
    "    Returns : \n",
    "        A Gensim Trigram object.\n",
    "    \"\"\"\n",
    "    if log:\n",
    "        print(\"Learning lexicon from files...\")\n",
    "\n",
    "    if log:\n",
    "        print(\"Creating Bigrams...\")\n",
    "    ngrams = Phrases(data, min_count=30)\n",
    "    \n",
    "    if log:\n",
    "        print(\"Bigrams are Ready.\")\n",
    "    if n ==3:\n",
    "        if log:\n",
    "            print(\"Creating Trigrams...\")\n",
    "        ngrams = Phrases(ngrams[data], min_count=10, threshold=2)\n",
    "        if log:\n",
    "            print(\"Trigrams are ready to use.\")\n",
    "\n",
    "    return ngrams"
   ]
  },
  {
   "cell_type": "code",
   "execution_count": 9,
   "metadata": {
    "ExecuteTime": {
     "end_time": "2019-03-14T16:28:51.815706Z",
     "start_time": "2019-03-14T16:28:09.784414Z"
    },
    "code_folding": []
   },
   "outputs": [
    {
     "name": "stdout",
     "output_type": "stream",
     "text": [
      "Learning lexicon from files...\n",
      "Creating Bigrams...\n",
      "Bigrams are Ready.\n"
     ]
    }
   ],
   "source": [
    "ngram = create_ngrams(training_set, n=2)"
   ]
  },
  {
   "cell_type": "markdown",
   "metadata": {},
   "source": [
    "Let's take a look at our bigrams:"
   ]
  },
  {
   "cell_type": "code",
   "execution_count": 10,
   "metadata": {},
   "outputs": [
    {
     "name": "stdout",
     "output_type": "stream",
     "text": [
      "['going to']\n"
     ]
    }
   ],
   "source": [
    "bb = Phrases(training_set, min_count=30)\n",
    "for sent in training_set:\n",
    "    bigrams_ = [b for b in bb[sent] if ' ' in b ]\n",
    "    if bigrams_ != []:\n",
    "        print(bigrams_)\n"
   ]
  },
  {
   "cell_type": "markdown",
   "metadata": {},
   "source": [
    "Oops! It seems the only bigram we got is **going to** !\n",
    "Well this is not a good thing because:\n",
    "1. It's almost impossible that **going to** is the only bigram in our dataset\n",
    "2. Even if **going to** is the only bigram, it's not *useful* at all ! (*It lacks somethng called 'Informativeness'*)\n",
    "\n",
    "Where this **going to** came from? According to documents of *gensim* library, they use *collection counts* to calculate bigrams which for several reasons is not a good idea, especially when we have a small dataset like ours.\n",
    "Unfortunately the reason behind it and the better way to identify bigrams is out of scope of this notebook so for now, let's just use what we have."
   ]
  },
  {
   "cell_type": "code",
   "execution_count": 12,
   "metadata": {
    "ExecuteTime": {
     "end_time": "2019-03-14T16:33:06.503472Z",
     "start_time": "2019-03-14T16:33:06.491084Z"
    }
   },
   "outputs": [],
   "source": [
    "def get_or_build_model(ngram: Phrases,\n",
    "                       skipgram: int=0,\n",
    "                       size: int=300,\n",
    "                       window: int=2,\n",
    "                       min_count: int=20,\n",
    "                       alpha=0.03, \n",
    "                       negative=20,\n",
    "                       hs: int=1,\n",
    "                       ns_exponent = 0.05,\n",
    "                       iter=10,\n",
    "                       load: str=None,\n",
    "                       save: str=None,\n",
    "                       log: bool=True):\n",
    "    \n",
    "    \"\"\"Build or if a saved model exists, load the model.\n",
    "\n",
    "    Args: \n",
    "        ngram: ngram object created by create_ngrams() function.\n",
    "        skipgram: internal algorithm used to create the model. 0=CBOW, 1=skipgram. [default = 0]\n",
    "        size: Dimensionality of the word vectors.\n",
    "        window: Maximum distance between the current and predicted word within a sentence.\n",
    "        min_count: Ignores all words with total frequency lower than this.\n",
    "        alpha: The initial learning rate\n",
    "        hs: hierarchical softmax if 0 non-zero, negative sampling will be used.[default = 1]\n",
    "        load: file path to the pre-built model to be loaded. If None, model will be created [default = None]\n",
    "        save: file path to be used to save the created model. If None, model won't be saved locally [default = None]\n",
    "        log: whether log messages should be printed for the use [default = True]\n",
    "    \n",
    "    Returns:\n",
    "        A word2vec model\n",
    "    \"\"\"\n",
    "    if log:\n",
    "        print(\"Creating ngrams...\")\n",
    "    sentences = [ngram[pair] for pair in tqdm_notebook(training_set)]\n",
    "\n",
    "    if load is not None:\n",
    "        if log:\n",
    "            print(\"Loading model...\")\n",
    "        model = Word2Vec.load(f\"./{load}\")\n",
    "        if log:\n",
    "            print(\"Model has been loaded successfully.\")\n",
    "    else:\n",
    "        if log:\n",
    "            print(\"Building Word2Vec...\")\n",
    "        model = Word2Vec(\n",
    "            sentences,\n",
    "            size=size,\n",
    "            window=window,\n",
    "            min_count=min_count,\n",
    "            sg=skipgram,\n",
    "            hs=hs,\n",
    "            alpha=alpha, \n",
    "            negative=negative,\n",
    "            ns_exponent = ns_exponent,\n",
    "            iter=iter)\n",
    "        if log:\n",
    "            print(\"Model has been built.\")\n",
    "        if save is not None:\n",
    "            if log:\n",
    "                print(\"Saving the model...\")\n",
    "            model.save(f\"./{save}\")\n",
    "            if log:\n",
    "                print(\"Model has been saved successfully.\")\n",
    "\n",
    "    return model"
   ]
  },
  {
   "cell_type": "code",
   "execution_count": 13,
   "metadata": {
    "ExecuteTime": {
     "end_time": "2019-03-14T16:34:33.218212Z",
     "start_time": "2019-03-14T16:33:15.330851Z"
    }
   },
   "outputs": [
    {
     "name": "stdout",
     "output_type": "stream",
     "text": [
      "Creating ngrams...\n"
     ]
    },
    {
     "data": {
      "application/vnd.jupyter.widget-view+json": {
       "model_id": "ba9bd4da0e4946ea9eb85c88a98efd2a",
       "version_major": 2,
       "version_minor": 0
      },
      "text/plain": [
       "HBox(children=(IntProgress(value=0, max=105431), HTML(value='')))"
      ]
     },
     "metadata": {},
     "output_type": "display_data"
    },
    {
     "name": "stdout",
     "output_type": "stream",
     "text": [
      "\n",
      "Building Word2Vec...\n",
      "Model has been built.\n"
     ]
    }
   ],
   "source": [
    "# creating Word2Vec model\n",
    "model = get_or_build_model(ngram)"
   ]
  },
  {
   "cell_type": "markdown",
   "metadata": {},
   "source": [
    "### Cosine Similarity"
   ]
  },
  {
   "cell_type": "markdown",
   "metadata": {},
   "source": [
    "Cosine similarity is the Cosine of two vectors A and B in a Way that if they are orthogonal to each other(not similarity) the Cosine will be 0 and in case they are equal, the Cosine would be equal to 1."
   ]
  },
  {
   "cell_type": "markdown",
   "metadata": {},
   "source": [
    "$$similarity\\,score = cos(\\theta ) = \\frac{A \\cdot B}{\\left \\| A  \\right \\| \\left \\| B  \\right \\|} =\\frac{\\sum_{i=1}^{n}A_{i}B_{i}}{\\sqrt{\\sum_{i=1}^{n}A_{i}^{2}} \\sqrt{\\sum_{i=1}^{n}B_{i}^{2}}}$$"
   ]
  },
  {
   "cell_type": "markdown",
   "metadata": {},
   "source": [
    "Since Cosine similarity is one of the most important text similarity measures and has a pivotal role in text mining and NLP, let's suer that the idea behind it is clear. To better understand it, we can *turn* a bit the equation and look at the dot product:"
   ]
  },
  {
   "cell_type": "markdown",
   "metadata": {},
   "source": [
    "$$a.b = \\left | a \\right |\\times \\left | b \\right | \\times \\cos( \\theta)$$"
   ]
  },
  {
   "cell_type": "markdown",
   "metadata": {},
   "source": [
    "The above equation means : *to get the dot product of two vectors __a__ and __b__ you should consider the angele between them*\n",
    "\n",
    "But why? let’s first remind ourselves the goal of a dot-product:combining two vectors to obtain their product. So we can expect that having vectors as ingredients, we need to consider all their characteristics which as we mentioned before, are magnitude and direction. for example looking at the following simple example we can see that it’s trivial to think that given that both vectors have the same directions it’s possible to say that we can obtain the multiplication of these vectors by multiplying their lengths:"
   ]
  },
  {
   "cell_type": "markdown",
   "metadata": {},
   "source": [
    "But the things won’t remain always as simple as we have seen above. Look at the this example:"
   ]
  },
  {
   "cell_type": "markdown",
   "metadata": {},
   "source": [
    "The three vectors $\\overrightarrow{a}, \\overrightarrow{b}$ and $\\overrightarrow{c}$ have the same length ($\\left | a \\right | = \\left | b \\right | = \\left | c \\right |$) but we in order to calculate $a.b$ or $a.c$ we can't just simply multiply their lengths because we can just to such a thing only if two vectors have the same direction. So, we need to somehow convert one of the vectors in a way to have the same direction as the other vector. The way we can achieve this is to use trigonometry Cosine function. As you can see in the figure above, after converting  $\\overrightarrow{b}$ and  $\\overrightarrow{c}$ using Cosine function we can see that $b.a$ will be greater than $c.a$."
   ]
  },
  {
   "cell_type": "markdown",
   "metadata": {},
   "source": [
    "The situation we face dealing with words will be quite different from the example above in 2 dimensional space.As we said before, even if we are going to use dense vectors instead of sparse outcome of one-hot encoding, the vector space still would be too complex to be visually demonstrated. In the figure above we see a 3-dimensional vector space with 3 vectors. Even without actually calculating dot products, we can almost certainly say that $a.b$ is greater than $a.c$ given that $\\phi$ the angle between $a$ and $b$ is close to $90^{\\circ}$ which brings $c.b$ close to zero. As a result, we can see that in our case of word vectors, we can expect that similar vectors have a greater dot product respect to the dissimilar vectors.\n",
    "Now that we're familiar with the dot product, we can *turn* the formula again and see it as:"
   ]
  },
  {
   "cell_type": "markdown",
   "metadata": {},
   "source": [
    "$$cos(\\theta ) = \\frac{A \\cdot B}{\\left \\| A  \\right \\| \\left \\| B  \\right \\|}$$"
   ]
  },
  {
   "cell_type": "markdown",
   "metadata": {},
   "source": [
    "A really useful characteristic of $cos(\\theta ) $ is that in this case, it will be a value between 0 and 1 with 0 showing the minimum and 1 the maximum similarity of two vectors. That's why we can use cosine similarity to calculate the similarity between two word vectors. In the following section we will see cosine similarity in action:"
   ]
  },
  {
   "cell_type": "code",
   "execution_count": 14,
   "metadata": {
    "ExecuteTime": {
     "end_time": "2019-03-14T16:40:46.707640Z",
     "start_time": "2019-03-14T16:40:46.687953Z"
    }
   },
   "outputs": [],
   "source": [
    "def n_most_similar(model: Word2Vec,\n",
    "                   text: str,\n",
    "                   n: int = 10):\n",
    "    \"\"\"Prints the n most similar words of the given string.\n",
    "\n",
    "    Args:\n",
    "        model : An object of Word2Vec class, created by get_or_build_model().\n",
    "        text : the string we want to get it similar words.\n",
    "        n : number of similar words we want to get [default = 10]        \n",
    "    \"\"\"\n",
    "\n",
    "    most_similar_to = model.wv.most_similar(positive=[text], topn=n)\n",
    "    for i, similar_item in enumerate(most_similar_to):\n",
    "        similar_key = similar_item[0]\n",
    "        score = str(round(float(similar_item[1]), 2))\n",
    "        print(f\"{i+1} - {similar_key} -- {score}\")\n"
   ]
  },
  {
   "cell_type": "markdown",
   "metadata": {},
   "source": [
    "Let's calculate the 10 most similar words to **Bart** character:"
   ]
  },
  {
   "cell_type": "code",
   "execution_count": 15,
   "metadata": {
    "ExecuteTime": {
     "end_time": "2019-03-14T16:41:03.051897Z",
     "start_time": "2019-03-14T16:41:02.929664Z"
    }
   },
   "outputs": [
    {
     "name": "stdout",
     "output_type": "stream",
     "text": [
      "1 - lisa -- 0.68\n",
      "2 - eliza -- 0.49\n",
      "3 - milhouse -- 0.49\n",
      "4 - saxophone -- 0.44\n",
      "5 - maggie -- 0.44\n",
      "6 - badly -- 0.43\n",
      "7 - principal_skinner -- 0.43\n",
      "8 - scared -- 0.43\n",
      "9 - abraham -- 0.42\n",
      "10 - grampa -- 0.41\n"
     ]
    }
   ],
   "source": [
    "n_most_similar(model, text='bart', n=10)"
   ]
  },
  {
   "cell_type": "markdown",
   "metadata": {},
   "source": [
    "The results are really good considering not so large dataset we have in hand.\n",
    "Now let's directly use **.doesnt_match** method of model vocabulary to see which of the given words doesn't belong to the rest of the words:"
   ]
  },
  {
   "cell_type": "code",
   "execution_count": 16,
   "metadata": {},
   "outputs": [
    {
     "data": {
      "text/plain": [
       "'nelson'"
      ]
     },
     "execution_count": 16,
     "metadata": {},
     "output_type": "execute_result"
    }
   ],
   "source": [
    "model.wv.doesnt_match([\"nelson\", \"bart\", \"milhouse\"])"
   ]
  },
  {
   "cell_type": "code",
   "execution_count": 17,
   "metadata": {},
   "outputs": [
    {
     "data": {
      "text/plain": [
       "'milhouse'"
      ]
     },
     "execution_count": 17,
     "metadata": {},
     "output_type": "execute_result"
    }
   ],
   "source": [
    "model.wv.doesnt_match([\"bart\", \"lisa\", \"milhouse\"])"
   ]
  },
  {
   "cell_type": "markdown",
   "metadata": {},
   "source": [
    "### Visualization"
   ]
  },
  {
   "cell_type": "markdown",
   "metadata": {},
   "source": [
    "How do you think we can visualize the results of our word-embedding model? the short answer is, we can't! :D\n",
    "Simply because we are human beings and our brain can't comprehend an object which has more than 3 dimensions! _(reminder: in our example we've created 300-dimension vectors!)_\n",
    "\n",
    "So what is the solution? Fortunately back in 2008 a smart guy named _Laurens van der Maaten_ came up with a method which can reduce a high-dimension model to a 2-3 dimension space.\n",
    "This technique is called __t-SNE__ which stands for __t-Distributed Stochastic Neighbor Embedding__ . Explanation of t-SNE is way beyond the scope of this class but if you're interested in the topic, here is a nice video which explains how does it work:[link](https://www.youtube.com/watch?v=NEaUSP4YerM) \n",
    "\n",
    "_Note: Remember that getting a good result from t-SNE is not so easy! there are LOTS of parameters you can/should modify inside t-SNE function. [Here](https://distill.pub/2016/misread-tsne/) is a super-useful article with an interactive tool which helps you to play with parameters and discover their impact on the final results._"
   ]
  },
  {
   "cell_type": "code",
   "execution_count": 18,
   "metadata": {
    "ExecuteTime": {
     "end_time": "2019-03-14T14:50:54.454057Z",
     "start_time": "2019-03-14T14:50:54.446059Z"
    }
   },
   "outputs": [],
   "source": [
    "def plot_tsne(model,\n",
    "              n_components: int=2,\n",
    "              perplexity:int =20,\n",
    "              learning_rate: int=10,\n",
    "              n_iter: int=1000,\n",
    "              metric: str='euclidean'):\n",
    "    \n",
    "    \"\"\"t-SNE plot for word-embedding model.\n",
    "    \n",
    "    Args:\n",
    "        n_components: Dimension of the embedded space.\n",
    "        perplexity: The perplexity is related to the number of nearest neighbors that\n",
    "            is used in other manifold learning algorithms. Larger datasets\n",
    "            usually require a larger perplexity. \n",
    "        learning_rate: The learning rate for t-SNE is usually in the range [10.0, 1000.0].\n",
    "            If the learning rate is too high, the data may look like a 'ball' with any\n",
    "            point approximately equidistant from its nearest neighbours.\n",
    "        n_iter: Maximum number of iterations for the optimization. Should be at least 250.\n",
    "        metric: The metric to use when calculating distance between instances in a \n",
    "            feature array.\n",
    "    \"\"\"\n",
    "\n",
    "    X = model[model.wv.vocab]\n",
    "    # diminesion reduction from 300 to 50 with PCA\n",
    "    X = PCA(n_components=50).fit_transform(X)\n",
    "\n",
    "    tsne = TSNE(\n",
    "        n_components=n_components,\n",
    "        perplexity=perplexity,\n",
    "        learning_rate=learning_rate,\n",
    "        n_iter=n_iter,\n",
    "        metric=metric)\n",
    "\n",
    "    X_tsne = tsne.fit_transform(X)\n",
    "    plt.figure(figsize=(13, 8))\n",
    "    plt.scatter(X_tsne[:, 0], X_tsne[:, 1], s=2, alpha=0.4)\n",
    "    plt.title('t-SNE plot', fontsize=20)\n",
    "    plt.xticks([])\n",
    "    plt.yticks([])\n",
    "    plt.show()"
   ]
  },
  {
   "cell_type": "code",
   "execution_count": 19,
   "metadata": {
    "ExecuteTime": {
     "end_time": "2019-03-14T14:50:54.454057Z",
     "start_time": "2019-03-14T14:50:54.446059Z"
    }
   },
   "outputs": [],
   "source": [
    "def plot_umap(model,\n",
    "              n_components: int=2,\n",
    "              n_neighbors:int =3,\n",
    "              learning_rate: int=10,\n",
    "              metric: str='cosine'):\n",
    "    \n",
    "    \"\"\"UMAP plot for word-embedding model.\n",
    "    \n",
    "    Args:\n",
    "        n_components: Dimension of the embedded space.\n",
    "        metric: The metric to use when calculating distance between instances in a \n",
    "            feature array.\n",
    "    \"\"\"\n",
    "\n",
    "    X = model[model.wv.vocab]\n",
    "    reducer = umap.UMAP(n_neighbors=n_neighbors, metric=metric, learning_rate=learning_rate)\n",
    "    X = model[model.wv.vocab]\n",
    "    embedding = reducer.fit_transform(X)\n",
    "    plt.scatter(embedding[:, 0], embedding[:, 1], s=5, alpha=0.5)\n",
    "    plt.title('UMAP plot', fontsize=24)\n",
    "    plt.show()"
   ]
  },
  {
   "cell_type": "code",
   "execution_count": 20,
   "metadata": {
    "ExecuteTime": {
     "end_time": "2019-03-14T15:33:32.803659Z",
     "start_time": "2019-03-14T14:50:58.116710Z"
    }
   },
   "outputs": [
    {
     "data": {
      "image/png": "[encoded data removed]",
      "text/plain": [
       "<Figure size 936x576 with 1 Axes>"
      ]
     },
     "metadata": {},
     "output_type": "display_data"
    }
   ],
   "source": [
    "plot_tsne(model, perplexity=40, learning_rate=5)"
   ]
  },
  {
   "cell_type": "code",
   "execution_count": 21,
   "metadata": {},
   "outputs": [
    {
     "data": {
      "image/png": "[encoded data removed]",
      "text/plain": [
       "<Figure size 1080x720 with 1 Axes>"
      ]
     },
     "metadata": {
      "needs_background": "light"
     },
     "output_type": "display_data"
    }
   ],
   "source": [
    "plot_umap(model)"
   ]
  },
  {
   "cell_type": "code",
   "execution_count": 22,
   "metadata": {},
   "outputs": [],
   "source": [
    "def plot_tsne_top_n(model, word, n:int = 10):\n",
    "    \n",
    "    \"\"\"t-SNE plot for top n similar words for the given input\n",
    "    \n",
    "    Args:\n",
    "        model : An object of Word2Vec class, created by get_or_build_model().\n",
    "        word : the string we want to plot similar words for\n",
    "        n : number of similar words we want to get [default = 10]   \n",
    "    \"\"\"\n",
    "    \n",
    "    X = model[model.wv.vocab]\n",
    "    tsne = TSNE(n_components=2,\n",
    "                  perplexity=20,\n",
    "                  learning_rate=10,\n",
    "                  n_iter=1000,\n",
    "                  metric='euclidean')\n",
    "\n",
    "    X_tsne = tsne.fit_transform(X)\n",
    "\n",
    "    tsne_df = pd.DataFrame([X_tsne[:, 0], X_tsne[:, 1]]).T\n",
    "    tsne_df.columns = ['X', 'Y']\n",
    "\n",
    "    tsne_df['words'] = model.wv.vocab.keys()\n",
    "\n",
    "    top = [x[0] for x in model.wv.most_similar(positive=[word], topn=n)]\n",
    "\n",
    "\n",
    "    df_point = tsne_df[tsne_df.words == word].reset_index(drop=True)\n",
    "    df_1 = tsne_df[tsne_df.words.isin(top)].reset_index(drop=True)\n",
    "    plt.scatter(df_1.X, df_1.Y)\n",
    "    plt.scatter(df_point.X, df_point.Y, c='r')\n",
    "    for i in range(len(df_1)):\n",
    "        plt.text(df_1.X[i], df_1.Y[i], df_1.words[i])\n",
    "    plt.text(df_point.X[0], df_point.Y[0], df_point.words[0], horizontalalignment='center')\n",
    "    plt.title(f'Top {n} words for {word}', fontsize=20)\n",
    "    plt.show()"
   ]
  },
  {
   "cell_type": "code",
   "execution_count": 23,
   "metadata": {},
   "outputs": [],
   "source": [
    "def plot_umap_top_n(model, word, n:int = 10):\n",
    "    \n",
    "    \"\"\"UMAP plot for top n similar words for the given input\n",
    "    \n",
    "    Args:\n",
    "        model : An object of Word2Vec class, created by get_or_build_model().\n",
    "        word : the string we want to plot similar words for\n",
    "        n : number of similar words we want to get [default = 10]   \n",
    "    \"\"\"\n",
    "    \n",
    "    X = model[model.wv.vocab]\n",
    "    reducer = umap.UMAP()\n",
    "    X_tsne = reducer.fit_transform(X)\n",
    "\n",
    "\n",
    "    tsne_df = pd.DataFrame([X_tsne[:, 0], X_tsne[:, 1]]).T\n",
    "    tsne_df.columns = ['X', 'Y']\n",
    "\n",
    "    tsne_df['words'] = model.wv.vocab.keys()\n",
    "\n",
    "    top = [x[0] for x in model.wv.most_similar(positive=[word], topn=n)]\n",
    "\n",
    "\n",
    "    df_point = tsne_df[tsne_df.words == word].reset_index(drop=True)\n",
    "    df_1 = tsne_df[tsne_df.words.isin(top)].reset_index(drop=True)\n",
    "    plt.scatter(df_1.X, df_1.Y)\n",
    "    plt.scatter(df_point.X, df_point.Y, c='r')\n",
    "    for i in range(len(df_1)):\n",
    "        plt.text(df_1.X[i], df_1.Y[i], df_1.words[i])\n",
    "    plt.text(df_point.X[0], df_point.Y[0], df_point.words[0], horizontalalignment='center')\n",
    "    plt.title(f'Top {n} words for {word}', fontsize=20)\n",
    "    plt.show()"
   ]
  },
  {
   "cell_type": "code",
   "execution_count": 104,
   "metadata": {},
   "outputs": [
    {
     "data": {
      "image/png": "[encoded data removed]",
      "text/plain": [
       "<Figure size 1080x720 with 1 Axes>"
      ]
     },
     "metadata": {
      "needs_background": "light"
     },
     "output_type": "display_data"
    }
   ],
   "source": [
    "plot_tsne_top_n(model, 'homer', n=20)"
   ]
  },
  {
   "cell_type": "code",
   "execution_count": 108,
   "metadata": {},
   "outputs": [
    {
     "data": {
      "image/png": "[encoded data removed]",
      "text/plain": [
       "<Figure size 1080x720 with 1 Axes>"
      ]
     },
     "metadata": {
      "needs_background": "light"
     },
     "output_type": "display_data"
    }
   ],
   "source": [
    "plot_umap_top_n(model, 'homer', n=20)"
   ]
  },
  {
   "cell_type": "markdown",
   "metadata": {},
   "source": [
    "## Doc2Vec Algorithm"
   ]
  },
  {
   "cell_type": "markdown",
   "metadata": {},
   "source": [
    "Hopefully now that you know the concept of word embeddings and Word2Vec algorithm, it's much more easier to talk about Doc2Vec.\n",
    "\n",
    "Doc2Vec is a generalization of a Word2Vec algorithm which not only takes into consideration the context of words, but also takes into account the context of the the document as a whole.\n",
    "\n",
    "In the doc2vec architecture, the two algorithm that are **“continuous bag of words” (CBOW)** and **“skip-gram” (SG)**; correspond to the **“distributed memory” (DM)** and **“distributed bag of words” (DBOW)**.\n",
    "\n",
    "The following figure shows how  Word2Vec integrates the Cocument ID into the context:\n",
    "\n",
    "\n",
    "<img src=\"Images/doc2vec.jpg\" height=\"300\" width=\"800\">"
   ]
  },
  {
   "cell_type": "markdown",
   "metadata": {},
   "source": [
    "### Data preparation"
   ]
  },
  {
   "cell_type": "markdown",
   "metadata": {},
   "source": [
    "While in Word2Vec example we used embeddings to create a visulization, in case of Doc2Vec we try to create a simple classifier which given a sentence can predict who's sentence is that!\n",
    "\n",
    "To do so we need to do a further step: **Balancing the data**"
   ]
  },
  {
   "cell_type": "code",
   "execution_count": 109,
   "metadata": {},
   "outputs": [],
   "source": [
    "# normalizing the names\n",
    "df['raw_character_text'] = [x.lower().strip() for x in df['raw_character_text']]"
   ]
  },
  {
   "cell_type": "code",
   "execution_count": 110,
   "metadata": {},
   "outputs": [
    {
     "data": {
      "text/plain": [
       "homer simpson    27850\n",
       "marge simpson    13172\n",
       "bart simpson     12995\n",
       "lisa simpson     10756\n",
       "Name: raw_character_text, dtype: int64"
      ]
     },
     "execution_count": 110,
     "metadata": {},
     "output_type": "execute_result"
    }
   ],
   "source": [
    "df.raw_character_text.value_counts()[:4]"
   ]
  },
  {
   "cell_type": "markdown",
   "metadata": {},
   "source": [
    "As you can see **Lisa** has the lowest lines : 10756 . One way to balance the data is down sample others to Lisa level:"
   ]
  },
  {
   "cell_type": "code",
   "execution_count": 111,
   "metadata": {},
   "outputs": [],
   "source": [
    "data_ho = df[df.raw_character_text == 'homer simpson'].sample(10756)\n",
    "data_ma = df[df.raw_character_text == 'marge simpson'].sample(10756)\n",
    "data_ba = df[df.raw_character_text == 'bart simpson'].sample(10756)\n",
    "data_li = df[df.raw_character_text == 'lisa simpson']"
   ]
  },
  {
   "cell_type": "markdown",
   "metadata": {},
   "source": [
    "Now we should individually divide data for each character to train and test and then combine them together."
   ]
  },
  {
   "cell_type": "code",
   "execution_count": 112,
   "metadata": {},
   "outputs": [],
   "source": [
    "data_ho_test = data_ho.sample(3226)\n",
    "data_ho_train = data_ho[~data_ho.index.isin(data_ho_test.index)]"
   ]
  },
  {
   "cell_type": "code",
   "execution_count": 113,
   "metadata": {},
   "outputs": [],
   "source": [
    "data_ma_test = data_ma.sample(3226)\n",
    "data_ma_train = data_ma[~data_ma.index.isin(data_ma_test.index)]"
   ]
  },
  {
   "cell_type": "code",
   "execution_count": 114,
   "metadata": {},
   "outputs": [],
   "source": [
    "data_ba_test = data_ba.sample(3226)\n",
    "data_ba_train = data_ba[~data_ba.index.isin(data_ba_test.index)]"
   ]
  },
  {
   "cell_type": "code",
   "execution_count": 115,
   "metadata": {},
   "outputs": [],
   "source": [
    "data_li_test = data_li.sample(3226)\n",
    "data_li_train = data_li[~data_li.index.isin(data_li_test.index)]"
   ]
  },
  {
   "cell_type": "code",
   "execution_count": 116,
   "metadata": {},
   "outputs": [],
   "source": [
    "# Training data\n",
    "data_train = pd.concat([data_ho_train, data_ma_train, data_ba_train, \n",
    "                      data_li_train]).reset_index(drop=True)"
   ]
  },
  {
   "cell_type": "code",
   "execution_count": 117,
   "metadata": {},
   "outputs": [],
   "source": [
    "# Testing data\n",
    "data_test = pd.concat([data_ho_test, data_ma_test, data_ba_test, \n",
    "                      data_li_test]).reset_index(drop=True)"
   ]
  },
  {
   "cell_type": "code",
   "execution_count": 118,
   "metadata": {},
   "outputs": [],
   "source": [
    "# Tagging each document with its label\n",
    "train_tagged = data_train.apply(lambda x: TaggedDocument(words=text_preproc(x['spoken_words']), tags=[x.raw_character_text]), axis=1)\n",
    "test_tagged = data_test.apply(lambda x: TaggedDocument(words=text_preproc(x['spoken_words']), tags=[x.raw_character_text]), axis=1)"
   ]
  },
  {
   "cell_type": "code",
   "execution_count": 119,
   "metadata": {},
   "outputs": [
    {
     "data": {
      "text/plain": [
       "TaggedDocument(words=['princess', 'coat', 'obviously', 'cold', 'escort', 'radiator'], tags=['homer simpson'])"
      ]
     },
     "execution_count": 119,
     "metadata": {},
     "output_type": "execute_result"
    }
   ],
   "source": [
    "# an example\n",
    "train_tagged.values[42]"
   ]
  },
  {
   "cell_type": "markdown",
   "metadata": {},
   "source": [
    "As we mentioned before, in order to create a Doc2Vec model we have two options. Let's start from DBOW model:"
   ]
  },
  {
   "cell_type": "code",
   "execution_count": 120,
   "metadata": {},
   "outputs": [
    {
     "data": {
      "application/vnd.jupyter.widget-view+json": {
       "model_id": "1df797dff088419ab07279c1223dfdf5",
       "version_major": 2,
       "version_minor": 0
      },
      "text/plain": [
       "HBox(children=(IntProgress(value=0, max=30120), HTML(value='')))"
      ]
     },
     "metadata": {},
     "output_type": "display_data"
    },
    {
     "name": "stdout",
     "output_type": "stream",
     "text": [
      "\n"
     ]
    }
   ],
   "source": [
    "# Inizializing the Doc2Vec model and creating the vocabulary\n",
    "model_dbow = Doc2Vec(dm=0, vector_size=300, negative=30, hs=0, min_count=6)\n",
    "model_dbow.build_vocab([x for x in tqdm_notebook(train_tagged.values)])"
   ]
  },
  {
   "cell_type": "code",
   "execution_count": 121,
   "metadata": {
    "scrolled": true
   },
   "outputs": [
    {
     "data": {
      "application/vnd.jupyter.widget-view+json": {
       "model_id": "3080c9fbf8f943c789318b6934780f08",
       "version_major": 2,
       "version_minor": 0
      },
      "text/plain": [
       "HBox(children=(IntProgress(value=0, description='Training model', max=30, style=ProgressStyle(description_widt…"
      ]
     },
     "metadata": {},
     "output_type": "display_data"
    },
    {
     "name": "stdout",
     "output_type": "stream",
     "text": [
      "\n"
     ]
    }
   ],
   "source": [
    "# training the model in 30 epochs\n",
    "for epoch in tqdm_notebook(range(30), desc= 'Training model'):\n",
    "    model_dbow.train(utils.shuffle([x for x in train_tagged.values]), total_examples=len(train_tagged.values), epochs=1)\n",
    "    model_dbow.alpha -= 0.002\n",
    "    model_dbow.min_alpha = model_dbow.alpha"
   ]
  },
  {
   "cell_type": "code",
   "execution_count": 122,
   "metadata": {},
   "outputs": [],
   "source": [
    "def labeled_vectors(model:Doc2Vec,\n",
    "                     tagged_docs:pd.core.series.Series):\n",
    "    \"\"\"Tagged vectors for the given model and documnets\n",
    "    \n",
    "    Args:\n",
    "        model: trained Doc2Vec model\n",
    "        tagged_docs: A pandas.Series which contains tagged documenst with their labels\n",
    "        \n",
    "    Returns:\n",
    "        labels and vectors for the giben documents\n",
    "        \n",
    "    \"\"\"\n",
    "    sents = tagged_docs.values\n",
    "    targets, regressors = zip(*[(doc.tags[0], model.infer_vector(doc.words, steps=20)) for doc in sents])\n",
    "    return targets, regressors"
   ]
  },
  {
   "cell_type": "code",
   "execution_count": 123,
   "metadata": {},
   "outputs": [
    {
     "name": "stdout",
     "output_type": "stream",
     "text": [
      "Accuracy: 0.2739\n",
      "F1 score: 0.2704\n"
     ]
    }
   ],
   "source": [
    "y_train, X_train = labeled_vectors(model_dbow, train_tagged)\n",
    "y_test, X_test = labeled_vectors(model_dbow, test_tagged)\n",
    "logreg = LogisticRegression()\n",
    "logreg.fit(X_train, y_train)\n",
    "y_pred = logreg.predict(X_test)\n",
    "print(f'Accuracy: {round(accuracy_score(y_test, y_pred), 4)}')\n",
    "print(f'F1 score: {round(f1_score(y_test, y_pred, average=\"weighted\"),4)}')"
   ]
  },
  {
   "cell_type": "code",
   "execution_count": 124,
   "metadata": {},
   "outputs": [],
   "source": [
    "model_dm = Doc2Vec(dm=1, window=3, vector_size=300, negative=30, min_count=6,alpha=0.1, min_alpha=0.1)\n",
    "model_dm.build_vocab([x for x in train_tagged.values])"
   ]
  },
  {
   "cell_type": "code",
   "execution_count": 125,
   "metadata": {
    "scrolled": true
   },
   "outputs": [
    {
     "data": {
      "application/vnd.jupyter.widget-view+json": {
       "model_id": "c296fbce823e4d8ca76222dc0fd5176e",
       "version_major": 2,
       "version_minor": 0
      },
      "text/plain": [
       "HBox(children=(IntProgress(value=0, description='Training model', max=30, style=ProgressStyle(description_widt…"
      ]
     },
     "metadata": {},
     "output_type": "display_data"
    },
    {
     "name": "stdout",
     "output_type": "stream",
     "text": [
      "\n"
     ]
    }
   ],
   "source": [
    "# training the model in 30 epochs\n",
    "for epoch in tqdm_notebook(range(30), desc= 'Training model'):\n",
    "    model_dm.train(utils.shuffle([x for x in train_tagged.values]), total_examples=len(train_tagged.values), epochs=1)\n",
    "    model_dm.alpha -= 0.002\n",
    "    model_dm.min_alpha = model_dm.alpha"
   ]
  },
  {
   "cell_type": "code",
   "execution_count": 126,
   "metadata": {},
   "outputs": [
    {
     "name": "stdout",
     "output_type": "stream",
     "text": [
      "Accuracy: 0.3845\n",
      "F1 score: 0.384\n"
     ]
    }
   ],
   "source": [
    "y_train, X_train = labeled_vectors(model_dm, train_tagged)\n",
    "y_test, X_test = labeled_vectors(model_dm, test_tagged)\n",
    "logreg.fit(X_train, y_train)\n",
    "y_pred = logreg.predict(X_test)\n",
    "print(f'Accuracy: {round(accuracy_score(y_test, y_pred), 4)}')\n",
    "print(f'F1 score: {round(f1_score(y_test, y_pred, average=\"weighted\"),4)}')"
   ]
  },
  {
   "cell_type": "markdown",
   "metadata": {},
   "source": [
    "According to creators of gensim library combining a paragraph vector from Distributed Bag of Words (DBOW) and Distributed Memory (DM) improves performance. So le't do it first by deleting training data of **model_dbow** and **model_dm** to free up the momory:"
   ]
  },
  {
   "cell_type": "code",
   "execution_count": 127,
   "metadata": {},
   "outputs": [],
   "source": [
    "model_dbow.delete_temporary_training_data(keep_doctags_vectors=True, keep_inference=True)\n",
    "model_dm.delete_temporary_training_data(keep_doctags_vectors=True, keep_inference=True)\n",
    "\n",
    "# concatenating models\n",
    "new_model = ConcatenatedDoc2Vec([model_dbow, model_dm])"
   ]
  },
  {
   "cell_type": "code",
   "execution_count": 128,
   "metadata": {},
   "outputs": [
    {
     "name": "stdout",
     "output_type": "stream",
     "text": [
      "Accuracy: 0.3865\n",
      "F1 score: 0.3856\n"
     ]
    }
   ],
   "source": [
    "y_train, X_train = labeled_vectors(new_model, train_tagged)\n",
    "y_test, X_test = labeled_vectors(new_model, test_tagged)\n",
    "logreg.fit(X_train, y_train)\n",
    "y_pred = logreg.predict(X_test)\n",
    "print(f'Accuracy: {round(accuracy_score(y_test, y_pred), 4)}')\n",
    "print(f'F1 score: {round(f1_score(y_test, y_pred, average=\"weighted\"),4)}')"
   ]
  },
  {
   "cell_type": "markdown",
   "metadata": {},
   "source": [
    "The results are way better than before but still can't be considered as good results. The biggest problem is the size of the training data. Another one reason may be the way we have addressed the _unbalanced_ data. A better way to do so would be using a method like __SMOTE__ to do the under or over sampling."
   ]
  },
  {
   "cell_type": "markdown",
   "metadata": {},
   "source": [
    "## Sources"
   ]
  },
  {
   "cell_type": "markdown",
   "metadata": {},
   "source": [
    "* [Distributed Representations of Words and Phrases and their Compositionality (Milkov et al)](https://papers.nips.cc/paper/5021-distributed-representations-of-words-and-phrases-and-their-compositionality.pdf)\n",
    "* [Gensim documentation](https://radimrehurek.com/gensim/index.html)\n",
    "* [RaRe-Technologies Github Page](https://github.com/RaRe-Technologies/gensim/blob/3c3506d51a2caf6b890de3b1b32a8b85f7566ca5/docs/notebooks/doc2vec-IMDB.ipynb)\n",
    "* [Multi-Class Text Classification with Doc2Vec & Logistic Regression by Susan Li](https://towardsdatascience.com/multi-class-text-classification-with-doc2vec-logistic-regression-9da9947b43f4)\n",
    "* [Gensim Word2Vec Tutorial by Pierre Megret](https://www.kaggle.com/pierremegret/gensim-word2vec-tutorial)\n",
    "* [An Artificial Language Evaluation of Distributional Semantic Models](https://www.aclweb.org/anthology/K17-1015.pdf)"
   ]
  },
  {
   "cell_type": "code",
   "execution_count": null,
   "metadata": {},
   "outputs": [],
   "source": []
  }
 ],
 "metadata": {
  "kernelspec": {
   "display_name": "Python 3",
   "language": "python",
   "name": "python3"
  },
  "language_info": {
   "codemirror_mode": {
    "name": "ipython",
    "version": 3
   },
   "file_extension": ".py",
   "mimetype": "text/x-python",
   "name": "python",
   "nbconvert_exporter": "python",
   "pygments_lexer": "ipython3",
   "version": "3.7.4"
  },
  "notify_time": "5",
  "toc": {
   "base_numbering": 1,
   "nav_menu": {},
   "number_sections": false,
   "sideBar": true,
   "skip_h1_title": false,
   "title_cell": "Table of Contents",
   "title_sidebar": "Contents",
   "toc_cell": false,
   "toc_position": {},
   "toc_section_display": true,
   "toc_window_display": false
  },
  "varInspector": {
   "cols": {
    "lenName": 16,
    "lenType": 16,
    "lenVar": 40
   },
   "kernels_config": {
    "python": {
     "delete_cmd_postfix": "",
     "delete_cmd_prefix": "del ",
     "library": "var_list.py",
     "varRefreshCmd": "print(var_dic_list())"
    },
    "r": {
     "delete_cmd_postfix": ") ",
     "delete_cmd_prefix": "rm(",
     "library": "var_list.r",
     "varRefreshCmd": "cat(var_dic_list()) "
    }
   },
   "types_to_exclude": [
    "module",
    "function",
    "builtin_function_or_method",
    "instance",
    "_Feature"
   ],
   "window_display": false
  }
 },
 "nbformat": 4,
 "nbformat_minor": 1
}
